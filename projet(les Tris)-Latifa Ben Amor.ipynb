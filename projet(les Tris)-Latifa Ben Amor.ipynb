{
 "cells": [
  {
   "cell_type": "code",
   "execution_count": 1,
   "metadata": {},
   "outputs": [],
   "source": [
    "import time\n",
    "import numpy\n",
    "import random\n",
    "import timeit\n",
    "from functools import partial\n",
    "from numpy import random as rd\n",
    "import matplotlib.pyplot as plt\n"
   ]
  },
  {
   "cell_type": "code",
   "execution_count": 2,
   "metadata": {},
   "outputs": [],
   "source": [
    "N,temps=[],[]"
   ]
  },
  {
   "cell_type": "markdown",
   "metadata": {},
   "source": [
    "### Tri par selection :"
   ]
  },
  {
   "cell_type": "code",
   "execution_count": 3,
   "metadata": {},
   "outputs": [],
   "source": [
    "def Tri_par_selection(v):\n",
    "    p=len(v)-1\n",
    "    for i in range(0,p):\n",
    "        ind_min=i\n",
    "        for k in range(i+1,len(v)):\n",
    "            if(v[k]< v[ind_min]):\n",
    "                ind_min=k\n",
    "        aux=v[i]\n",
    "        v[i]=v[ind_min]\n",
    "        v[ind_min]=aux     "
   ]
  },
  {
   "cell_type": "markdown",
   "metadata": {},
   "source": [
    "### Tri à bulle :"
   ]
  },
  {
   "cell_type": "code",
   "execution_count": 4,
   "metadata": {},
   "outputs": [],
   "source": [
    "def Tri_Bulle(v):\n",
    "    permutation=True\n",
    "    p=len(v)-1\n",
    "    while(permutation):\n",
    "        permutation = False\n",
    "        for i in range(0, p):\n",
    "            if(v[i]>v[i+1]):\n",
    "                aux=v[i]\n",
    "                v[i]=v[i+1]\n",
    "                v[i+1]=aux\n",
    "                permutation=True\n",
    "        p=p-1\n",
    "    "
   ]
  },
  {
   "cell_type": "markdown",
   "metadata": {},
   "source": [
    "### Tri par insertion :"
   ]
  },
  {
   "cell_type": "code",
   "execution_count": 5,
   "metadata": {},
   "outputs": [],
   "source": [
    "def Tri_insertion(v):\n",
    "    p=len(v)-1\n",
    "    for i in range(0,p):\n",
    "        x=v[i+1]\n",
    "        j=i\n",
    "        while(v[j]>x) and (j>0):\n",
    "            v[j+1]=v[j]\n",
    "            j=j-1\n",
    "        v[j+1]=x\n",
    "    "
   ]
  },
  {
   "cell_type": "markdown",
   "metadata": {},
   "source": [
    "### Tri par fusion :"
   ]
  },
  {
   "cell_type": "code",
   "execution_count": 131,
   "metadata": {},
   "outputs": [],
   "source": [
    " def Tri_fusion(tab):\n",
    "        if len(tab) < 2:\n",
    "            return tab\n",
    "        else:\n",
    "            m = len(tab)//2\n",
    "            return fusion(Tri_fusion(tab[:m]), Tri_fusion(tab[m:]))\n",
    "\n",
    "def fusion(t1, t2):\n",
    "    t=[]\n",
    "    i1, i2, n1, n2 = 0, 0, len(t1), len(t2)\n",
    "    while i1 < n1 and i2 < n2:\n",
    "        if t1[i1] < t2[i2]:\n",
    "            t.append(t1[i1])\n",
    "            i1 += 1      \n",
    "        else:\n",
    "            t.append(t2[i2])\n",
    "            i2 += 1\n",
    "    if i1 == n1:\n",
    "        t.extend(t2[i2:])\n",
    "    else:\n",
    "        t.extend(t1[i1:])\n",
    "    return t"
   ]
  },
  {
   "cell_type": "markdown",
   "metadata": {},
   "source": [
    "### Tri rapide :"
   ]
  },
  {
   "cell_type": "code",
   "execution_count": 132,
   "metadata": {},
   "outputs": [],
   "source": [
    "def Tri_rapide(tab):\n",
    "    \n",
    "    if tab == []:\n",
    "        return []\n",
    "    else:\n",
    "     \n",
    "        pivot = tab[0]\n",
    "        t1, t2 = [], []\n",
    "        for x in tab[1:]:\n",
    "            if x < pivot:\n",
    "                t1.append(x)\n",
    "\n",
    "            else:\n",
    "                t2.append(x)\n",
    "\n",
    "        return Tri_rapide(t1) + [pivot] + Tri_rapide(t2)      "
   ]
  },
  {
   "cell_type": "markdown",
   "metadata": {},
   "source": [
    "### Mesurer le temps d’exécution :"
   ]
  },
  {
   "cell_type": "code",
   "execution_count": 159,
   "metadata": {},
   "outputs": [],
   "source": [
    "import time\n",
    "import numpy\n",
    "\n",
    "def rapport_temps(N):  \n",
    "    t1 = time.time()\n",
    "    liste = numpy.random.randint(0,N,size=N) #Génération d'un tableau\n",
    "     # tri du tableau\n",
    "    #Tri_insertion(liste)\n",
    "    #Tri_par_selection(liste)\n",
    "    #Tri_Bulle(liste)\n",
    "    #Tri_fusion(liste)\n",
    "    Tri_rapide(liste)\n",
    "    t = time.time()-t1\n",
    "    return t"
   ]
  },
  {
   "cell_type": "code",
   "execution_count": 160,
   "metadata": {},
   "outputs": [
    {
     "name": "stderr",
     "output_type": "stream",
     "text": [
      "<ipython-input-132-82a557b546cf>:3: DeprecationWarning: elementwise comparison failed; this will raise an error in the future.\n",
      "  if tab == []:\n"
     ]
    },
    {
     "data": {
      "text/plain": [
       "0.0"
      ]
     },
     "execution_count": 160,
     "metadata": {},
     "output_type": "execute_result"
    }
   ],
   "source": [
    "rapport_temps(300)"
   ]
  },
  {
   "cell_type": "markdown",
   "metadata": {},
   "source": [
    "### La courbe correspondant :"
   ]
  },
  {
   "cell_type": "code",
   "execution_count": 161,
   "metadata": {},
   "outputs": [
    {
     "name": "stderr",
     "output_type": "stream",
     "text": [
      "<ipython-input-132-82a557b546cf>:3: DeprecationWarning: elementwise comparison failed; this will raise an error in the future.\n",
      "  if tab == []:\n"
     ]
    },
    {
     "data": {
      "image/png": "[encoded data removed]",
      "text/plain": [
       "<Figure size 432x288 with 1 Axes>"
      ]
     },
     "metadata": {
      "needs_background": "light"
     },
     "output_type": "display_data"
    }
   ],
   "source": [
    "import matplotlib.pyplot as plt\n",
    "for n in range(2000,10000,500):\n",
    "    plt.plot(n,rapport_temps(n),marker='*')\n",
    "    plt.grid()\n",
    "\n"
   ]
  },
  {
   "cell_type": "code",
   "execution_count": null,
   "metadata": {},
   "outputs": [],
   "source": []
  }
 ],
 "metadata": {
  "kernelspec": {
   "display_name": "Python 3",
   "language": "python",
   "name": "python3"
  },
  "language_info": {
   "codemirror_mode": {
    "name": "ipython",
    "version": 3
   },
   "file_extension": ".py",
   "mimetype": "text/x-python",
   "name": "python",
   "nbconvert_exporter": "python",
   "pygments_lexer": "ipython3",
   "version": "3.8.3"
  }
 },
 "nbformat": 4,
 "nbformat_minor": 4
}
