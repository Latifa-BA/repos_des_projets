{
 "cells": [
  {
   "cell_type": "markdown",
   "metadata": {},
   "source": [
    "### Résolution du probléme en python :"
   ]
  },
  {
   "cell_type": "code",
   "execution_count": 1,
   "metadata": {},
   "outputs": [],
   "source": [
    "def case_safe(tb_reine,nb_reine):\n",
    "    lst_possible =[(len(tb_reine), i) for i in range(nb_reine)]\n",
    "    \n",
    "    lst_valide =[]\n",
    "    for i in lst_possible :\n",
    "        test_valide=True \n",
    "        for j in tb_reine:\n",
    "            if i[1]==j[1]:\n",
    "                test_valide =False \n",
    "            elif abs((i[0]-j[0])/(i[1]-j[1]))==1 :\n",
    "                test_valide=False\n",
    "        if test_valide:\n",
    "            lst_valide.append(i)\n",
    "    return lst_valide "
   ]
  },
  {
   "cell_type": "code",
   "execution_count": 2,
   "metadata": {},
   "outputs": [
    {
     "name": "stdout",
     "output_type": "stream",
     "text": [
      "[(0, 1), (1, 3), (2, 5), (3, 0), (4, 2), (5, 4)]\n",
      "[(0, 2), (1, 5), (2, 1), (3, 4), (4, 0), (5, 3)]\n",
      "[(0, 3), (1, 0), (2, 4), (3, 1), (4, 5), (5, 2)]\n",
      "[(0, 4), (1, 2), (2, 0), (3, 5), (4, 3), (5, 1)]\n",
      "None\n"
     ]
    }
   ],
   "source": [
    "def   placer_les_reine(tb_reine=[]):\n",
    "    nb_reine=6\n",
    "    for i in case_safe(tb_reine, nb_reine):\n",
    "        \n",
    "        if len(tb_reine)==nb_reine-1:\n",
    "            \n",
    "            print(tb_reine + [i])\n",
    "        else :\n",
    "\n",
    "            placer_les_reine(tb_reine +[i])\n",
    "            \n",
    "            \n",
    "print( placer_les_reine())"
   ]
  },
  {
   "cell_type": "code",
   "execution_count": null,
   "metadata": {},
   "outputs": [],
   "source": []
  }
 ],
 "metadata": {
  "kernelspec": {
   "display_name": "Python 3",
   "language": "python",
   "name": "python3"
  },
  "language_info": {
   "codemirror_mode": {
    "name": "ipython",
    "version": 3
   },
   "file_extension": ".py",
   "mimetype": "text/x-python",
   "name": "python",
   "nbconvert_exporter": "python",
   "pygments_lexer": "ipython3",
   "version": "3.8.3"
  }
 },
 "nbformat": 4,
 "nbformat_minor": 4
}
